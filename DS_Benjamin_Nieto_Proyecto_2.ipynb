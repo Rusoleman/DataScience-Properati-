{
 "cells": [
  {
   "cell_type": "markdown",
   "id": "40e96568",
   "metadata": {},
   "source": [
    "# DATA-SCIENCE Proyecto 2\n",
    "## Benjamin Abraham Nieto\n",
    "### \"Dataset Properaty & Modelos Avanzados\""
   ]
  },
  {
   "cell_type": "markdown",
   "id": "bf891104",
   "metadata": {},
   "source": [
    "## Proposito\n",
    "En este proyecto se retoma el datset del proyecto uno (***DS_Proyecto_01_Datos_Properati.csv***) y la misma problematica que es obtener el mejor modelo de machine learning como tasador de precios, con diferecnia en que buscamos que en esta version (**v 2.0**) nuestro predictor alcance un nuevo nivel de estimacion mejorado implementando nuevas tecnicas, modelos, variables etc.\n",
    "\n",
    "### Objetivos\n",
    "Como objetivos a destacar buscaremos lo siguiente:\n",
    "- Optimizacion del modelo o cambio de este (Mejores resultados al predecir)\n",
    "- Mejoras en nuestros datos (Modificacion del dataset para tener resultados mas precisos)\n",
    "- Exploracion de nuevos errores al mejorar el modelo"
   ]
  },
  {
   "cell_type": "markdown",
   "id": "e6c52d97",
   "metadata": {},
   "source": [
    "### Analisis Exploratorio"
   ]
  },
  {
   "cell_type": "code",
   "execution_count": 1,
   "id": "60ce6821",
   "metadata": {},
   "outputs": [],
   "source": [
    "import pandas as pd\n",
    "import numpy as np\n",
    "import matplotlib.pyplot as plt\n",
    "import seaborn as sns"
   ]
  },
  {
   "cell_type": "code",
   "execution_count": 2,
   "id": "a9c19697",
   "metadata": {},
   "outputs": [
    {
     "data": {
      "text/html": [
       "<div>\n",
       "<style scoped>\n",
       "    .dataframe tbody tr th:only-of-type {\n",
       "        vertical-align: middle;\n",
       "    }\n",
       "\n",
       "    .dataframe tbody tr th {\n",
       "        vertical-align: top;\n",
       "    }\n",
       "\n",
       "    .dataframe thead th {\n",
       "        text-align: right;\n",
       "    }\n",
       "</style>\n",
       "<table border=\"1\" class=\"dataframe\">\n",
       "  <thead>\n",
       "    <tr style=\"text-align: right;\">\n",
       "      <th></th>\n",
       "      <th>start_date</th>\n",
       "      <th>end_date</th>\n",
       "      <th>created_on</th>\n",
       "      <th>lat</th>\n",
       "      <th>lon</th>\n",
       "      <th>l1</th>\n",
       "      <th>l2</th>\n",
       "      <th>l3</th>\n",
       "      <th>rooms</th>\n",
       "      <th>bedrooms</th>\n",
       "      <th>bathrooms</th>\n",
       "      <th>surface_total</th>\n",
       "      <th>surface_covered</th>\n",
       "      <th>price</th>\n",
       "      <th>currency</th>\n",
       "      <th>title</th>\n",
       "      <th>description</th>\n",
       "      <th>property_type</th>\n",
       "      <th>operation_type</th>\n",
       "    </tr>\n",
       "  </thead>\n",
       "  <tbody>\n",
       "    <tr>\n",
       "      <th>0</th>\n",
       "      <td>2019-10-17</td>\n",
       "      <td>2019-12-23</td>\n",
       "      <td>2019-10-17</td>\n",
       "      <td>-34.605880</td>\n",
       "      <td>-58.384949</td>\n",
       "      <td>Argentina</td>\n",
       "      <td>Capital Federal</td>\n",
       "      <td>San Cristobal</td>\n",
       "      <td>7.0</td>\n",
       "      <td>7.0</td>\n",
       "      <td>2.0</td>\n",
       "      <td>140.0</td>\n",
       "      <td>140.0</td>\n",
       "      <td>153000.0</td>\n",
       "      <td>USD</td>\n",
       "      <td>***Venta semipiso centro, ideal hostel*****</td>\n",
       "      <td>DESCRIPCION DE LA PROPIEDAD: Departamento de 1...</td>\n",
       "      <td>Departamento</td>\n",
       "      <td>Venta</td>\n",
       "    </tr>\n",
       "    <tr>\n",
       "      <th>1</th>\n",
       "      <td>2019-10-17</td>\n",
       "      <td>2019-11-21</td>\n",
       "      <td>2019-10-17</td>\n",
       "      <td>-34.624056</td>\n",
       "      <td>-58.412110</td>\n",
       "      <td>Argentina</td>\n",
       "      <td>Capital Federal</td>\n",
       "      <td>Boedo</td>\n",
       "      <td>2.0</td>\n",
       "      <td>1.0</td>\n",
       "      <td>2.0</td>\n",
       "      <td>70.0</td>\n",
       "      <td>58.0</td>\n",
       "      <td>159000.0</td>\n",
       "      <td>USD</td>\n",
       "      <td>Espectacular PH reciclado en Boedo sin expensas.</td>\n",
       "      <td>PH reciclado en Boedo a una cuadra de la plaz...</td>\n",
       "      <td>PH</td>\n",
       "      <td>Venta</td>\n",
       "    </tr>\n",
       "    <tr>\n",
       "      <th>2</th>\n",
       "      <td>2019-10-17</td>\n",
       "      <td>2019-11-01</td>\n",
       "      <td>2019-10-17</td>\n",
       "      <td>-34.593569</td>\n",
       "      <td>-58.427474</td>\n",
       "      <td>Argentina</td>\n",
       "      <td>Capital Federal</td>\n",
       "      <td>Palermo</td>\n",
       "      <td>2.0</td>\n",
       "      <td>1.0</td>\n",
       "      <td>1.0</td>\n",
       "      <td>45.0</td>\n",
       "      <td>45.0</td>\n",
       "      <td>125000.0</td>\n",
       "      <td>USD</td>\n",
       "      <td>Depto.tipo casa de 2 ambientes en Venta en Pal...</td>\n",
       "      <td>2 ambienets amplio , excelente estado , patio ...</td>\n",
       "      <td>PH</td>\n",
       "      <td>Venta</td>\n",
       "    </tr>\n",
       "    <tr>\n",
       "      <th>3</th>\n",
       "      <td>2019-10-17</td>\n",
       "      <td>2019-12-23</td>\n",
       "      <td>2019-10-17</td>\n",
       "      <td>-34.581294</td>\n",
       "      <td>-58.436754</td>\n",
       "      <td>Argentina</td>\n",
       "      <td>Capital Federal</td>\n",
       "      <td>Palermo</td>\n",
       "      <td>2.0</td>\n",
       "      <td>1.0</td>\n",
       "      <td>1.0</td>\n",
       "      <td>85.0</td>\n",
       "      <td>50.0</td>\n",
       "      <td>295000.0</td>\n",
       "      <td>USD</td>\n",
       "      <td>COSTA RICA 5800 / PALERMO HOLLYWOOD / VENTA PH...</td>\n",
       "      <td>HERMOSO PH EN PALERMO!!!2 AMBIENTES TOTALMENTE...</td>\n",
       "      <td>PH</td>\n",
       "      <td>Venta</td>\n",
       "    </tr>\n",
       "    <tr>\n",
       "      <th>4</th>\n",
       "      <td>2019-10-17</td>\n",
       "      <td>2020-03-11</td>\n",
       "      <td>2019-10-17</td>\n",
       "      <td>-34.914194</td>\n",
       "      <td>-57.938219</td>\n",
       "      <td>Argentina</td>\n",
       "      <td>Bs.As. G.B.A. Zona Sur</td>\n",
       "      <td>La Plata</td>\n",
       "      <td>2.0</td>\n",
       "      <td>1.0</td>\n",
       "      <td>1.0</td>\n",
       "      <td>50.0</td>\n",
       "      <td>35.0</td>\n",
       "      <td>40000.0</td>\n",
       "      <td>USD</td>\n",
       "      <td>58 entre 1 y 2  Venta de departamento en ph.1 ...</td>\n",
       "      <td>58 entre 1 y 2  Venta de departamento en PH. P...</td>\n",
       "      <td>PH</td>\n",
       "      <td>Venta</td>\n",
       "    </tr>\n",
       "  </tbody>\n",
       "</table>\n",
       "</div>"
      ],
      "text/plain": [
       "   start_date    end_date  created_on        lat        lon         l1  \\\n",
       "0  2019-10-17  2019-12-23  2019-10-17 -34.605880 -58.384949  Argentina   \n",
       "1  2019-10-17  2019-11-21  2019-10-17 -34.624056 -58.412110  Argentina   \n",
       "2  2019-10-17  2019-11-01  2019-10-17 -34.593569 -58.427474  Argentina   \n",
       "3  2019-10-17  2019-12-23  2019-10-17 -34.581294 -58.436754  Argentina   \n",
       "4  2019-10-17  2020-03-11  2019-10-17 -34.914194 -57.938219  Argentina   \n",
       "\n",
       "                       l2             l3  rooms  bedrooms  bathrooms  \\\n",
       "0         Capital Federal  San Cristobal    7.0       7.0        2.0   \n",
       "1         Capital Federal          Boedo    2.0       1.0        2.0   \n",
       "2         Capital Federal        Palermo    2.0       1.0        1.0   \n",
       "3         Capital Federal        Palermo    2.0       1.0        1.0   \n",
       "4  Bs.As. G.B.A. Zona Sur       La Plata    2.0       1.0        1.0   \n",
       "\n",
       "   surface_total  surface_covered     price currency  \\\n",
       "0          140.0            140.0  153000.0      USD   \n",
       "1           70.0             58.0  159000.0      USD   \n",
       "2           45.0             45.0  125000.0      USD   \n",
       "3           85.0             50.0  295000.0      USD   \n",
       "4           50.0             35.0   40000.0      USD   \n",
       "\n",
       "                                               title  \\\n",
       "0        ***Venta semipiso centro, ideal hostel*****   \n",
       "1   Espectacular PH reciclado en Boedo sin expensas.   \n",
       "2  Depto.tipo casa de 2 ambientes en Venta en Pal...   \n",
       "3  COSTA RICA 5800 / PALERMO HOLLYWOOD / VENTA PH...   \n",
       "4  58 entre 1 y 2  Venta de departamento en ph.1 ...   \n",
       "\n",
       "                                         description property_type  \\\n",
       "0  DESCRIPCION DE LA PROPIEDAD: Departamento de 1...  Departamento   \n",
       "1   PH reciclado en Boedo a una cuadra de la plaz...            PH   \n",
       "2  2 ambienets amplio , excelente estado , patio ...            PH   \n",
       "3  HERMOSO PH EN PALERMO!!!2 AMBIENTES TOTALMENTE...            PH   \n",
       "4  58 entre 1 y 2  Venta de departamento en PH. P...            PH   \n",
       "\n",
       "  operation_type  \n",
       "0          Venta  \n",
       "1          Venta  \n",
       "2          Venta  \n",
       "3          Venta  \n",
       "4          Venta  "
      ]
     },
     "execution_count": 2,
     "metadata": {},
     "output_type": "execute_result"
    }
   ],
   "source": [
    "dataFrame = pd.read_csv(\"DS_Proyecto_01_Datos_Properati.csv\")\n",
    "dataFrame.head()"
   ]
  },
  {
   "cell_type": "markdown",
   "id": "3cdf979e",
   "metadata": {},
   "source": [
    "Lo primero que necesitamos observar es la composiscion de nuestro data frame para saber si es optimo para utilizarlo o si sera necesario hacer cambios en el para que provea la mayor cantidad de datos a nuestro modelo"
   ]
  },
  {
   "cell_type": "code",
   "execution_count": 24,
   "id": "1a0cb4fb",
   "metadata": {},
   "outputs": [
    {
     "name": "stdout",
     "output_type": "stream",
     "text": [
      "<class 'pandas.core.frame.DataFrame'>\n",
      "RangeIndex: 146660 entries, 0 to 146659\n",
      "Data columns (total 19 columns):\n",
      " #   Column           Non-Null Count   Dtype  \n",
      "---  ------           --------------   -----  \n",
      " 0   start_date       146660 non-null  object \n",
      " 1   end_date         146660 non-null  object \n",
      " 2   created_on       146660 non-null  object \n",
      " 3   lat              136735 non-null  float64\n",
      " 4   lon              136701 non-null  float64\n",
      " 5   l1               146660 non-null  object \n",
      " 6   l2               146660 non-null  object \n",
      " 7   l3               146660 non-null  object \n",
      " 8   rooms            146660 non-null  float64\n",
      " 9   bedrooms         146660 non-null  float64\n",
      " 10  bathrooms        140703 non-null  float64\n",
      " 11  surface_total    126133 non-null  float64\n",
      " 12  surface_covered  125046 non-null  float64\n",
      " 13  price            146660 non-null  float64\n",
      " 14  currency         146660 non-null  object \n",
      " 15  title            146660 non-null  object \n",
      " 16  description      146660 non-null  object \n",
      " 17  property_type    146660 non-null  object \n",
      " 18  operation_type   146660 non-null  object \n",
      "dtypes: float64(8), object(11)\n",
      "memory usage: 21.3+ MB\n",
      "None\n"
     ]
    }
   ],
   "source": [
    "data_desc = dataFrame.info()\n",
    "print(data_desc)"
   ]
  },
  {
   "cell_type": "markdown",
   "id": "45e9c90c",
   "metadata": {},
   "source": [
    "Despues de obeservar de manera general los datos con los que vamos a trabajar y la cantidad de instancias que contiene debemos saber cuantos datos faltantes tiene el data frame para evitar irregularidades e inconsistencias en el modelo posteriormente"
   ]
  },
  {
   "cell_type": "code",
   "execution_count": 25,
   "id": "8c30fe21",
   "metadata": {},
   "outputs": [
    {
     "name": "stdout",
     "output_type": "stream",
     "text": [
      "start_date             0\n",
      "end_date               0\n",
      "created_on             0\n",
      "lat                 9925\n",
      "lon                 9959\n",
      "l1                     0\n",
      "l2                     0\n",
      "l3                     0\n",
      "rooms                  0\n",
      "bedrooms               0\n",
      "bathrooms           5957\n",
      "surface_total      20527\n",
      "surface_covered    21614\n",
      "price                  0\n",
      "currency               0\n",
      "title                  0\n",
      "description            0\n",
      "property_type          0\n",
      "operation_type         0\n",
      "dtype: int64\n"
     ]
    }
   ],
   "source": [
    "missing_values = dataFrame.isna().sum()\n",
    "print(missing_values)"
   ]
  },
  {
   "cell_type": "code",
   "execution_count": 26,
   "id": "53fabf2c",
   "metadata": {},
   "outputs": [
    {
     "name": "stdout",
     "output_type": "stream",
     "text": [
      "2.439656348015819 %\n"
     ]
    }
   ],
   "source": [
    "total = np.product(dataFrame.shape)\n",
    "total_missing = missing_values.sum()\n",
    "percent = total_missing/total*100\n",
    "\n",
    "print(percent, \"%\")"
   ]
  },
  {
   "cell_type": "markdown",
   "id": "b61a2460",
   "metadata": {},
   "source": [
    "Tan solo tenemos un ***2.43% de valores faltantes*** en nuestro datos lo cual es poco aunque estos valores se encuentran en varaibles que usaremos mas tarde por lo cual sera necesario quitar estos valores y posteriormente susutituirlos.\n",
    "\n",
    "Procederemos seleccionando las variables a utilizar y viendo la distribucion."
   ]
  },
  {
   "cell_type": "code",
   "execution_count": 6,
   "id": "2bd545bd",
   "metadata": {},
   "outputs": [
    {
     "name": "stderr",
     "output_type": "stream",
     "text": [
      "<ipython-input-6-7ad3fe6d5605>:10: UserWarning: FixedFormatter should only be used together with FixedLocator\n",
      "  ax.set_xticklabels(x_l2, rotation=60)\n",
      "<ipython-input-6-7ad3fe6d5605>:19: UserWarning: FixedFormatter should only be used together with FixedLocator\n",
      "  ax.set_xticklabels(x_l3, rotation=90)\n"
     ]
    },
    {
     "data": {
      "text/plain": [
       "<Figure size 1440x864 with 0 Axes>"
      ]
     },
     "metadata": {},
     "output_type": "display_data"
    },
    {
     "data": {
      "image/png": "[encoded data removed]",
      "text/plain": [
       "<Figure size 432x288 with 1 Axes>"
      ]
     },
     "metadata": {
      "needs_background": "light"
     },
     "output_type": "display_data"
    },
    {
     "data": {
      "image/png": "[encoded data removed]",
      "text/plain": [
       "<Figure size 1188x720 with 1 Axes>"
      ]
     },
     "metadata": {
      "needs_background": "light"
     },
     "output_type": "display_data"
    }
   ],
   "source": [
    "#════════════════ Publications region (l2) ══════════════\n",
    "plt.figure(figsize=(20, 12))\n",
    "fig, ax = plt.subplots()\n",
    "\n",
    "x_l2 = dataFrame['l2'].unique()\n",
    "y_l2 = dataFrame['l2'].value_counts().tolist()\n",
    "ax = plt.subplot(2,1,1)\n",
    "plt.bar(x_l2, y_l2)\n",
    "plt.title('Publicatios Region Zone')\n",
    "ax.set_xticklabels(x_l2, rotation=60)\n",
    "\n",
    "#════════════════ Pucblications region (l3) ══════════════\n",
    "plt.figure(figsize = (5.5*3,10.0))\n",
    "x_l3 = dataFrame['l3'].unique()#TO MANY VALUES\n",
    "y_l3 = dataFrame['l3'].value_counts().tolist()\n",
    "ax = plt.subplot(2, 1, 2)  \n",
    "plt.bar(x_l3, y_l3)\n",
    "plt.title('Publicatios Region Place')\n",
    "ax.set_xticklabels(x_l3, rotation=90)\n",
    "\n",
    "plt.subplots_adjust(wspace=0.85, bottom=0.3)\n",
    "plt.show()"
   ]
  },
  {
   "cell_type": "markdown",
   "id": "e4e3d873",
   "metadata": {},
   "source": [
    "Como queremos tener los mejores resultado en el entrenamiento es necesario que tengamos las mayor catidad de datos posibles por lo cual se ha decidido trabajar con Capital Federal como nuestra principal fuente de datos.\n",
    "Aunque podriamos tambien usar algunas de las otras zonas para nuestros ensambles y asi mejorar nuestro modelo"
   ]
  },
  {
   "cell_type": "code",
   "execution_count": 27,
   "id": "c8ddc216",
   "metadata": {},
   "outputs": [
    {
     "data": {
      "image/png": "[encoded data removed]",
      "text/plain": [
       "<Figure size 504x360 with 2 Axes>"
      ]
     },
     "metadata": {
      "needs_background": "light"
     },
     "output_type": "display_data"
    }
   ],
   "source": [
    "corr_values = dataFrame.corr()\n",
    "f, ax = plt.subplots(figsize=(7, 5))\n",
    "ax = sns.heatmap(corr_values,\n",
    "                cmap='coolwarm',\n",
    "                annot=True)"
   ]
  },
  {
   "cell_type": "markdown",
   "id": "b2d79745",
   "metadata": {},
   "source": [
    "Lo primero a hacer es un mapa de correlacion porque como anteriormente vimos hay valores faltantes en los datos principales a usar (**surface_covered, surface_total, etc**) y en el mapa nos damos cuenta que no tenemos buenas relaciones entre los datos por lo cual haremos una ***Imoutacion de valores faltantes*** antes de filtrar y asi conservar la mayor cantidad de datos posibles."
   ]
  },
  {
   "cell_type": "markdown",
   "id": "7be27295",
   "metadata": {},
   "source": [
    "###  Analisis de datos pre-filtrado"
   ]
  },
  {
   "cell_type": "code",
   "execution_count": 28,
   "id": "580644f5",
   "metadata": {},
   "outputs": [
    {
     "data": {
      "text/plain": [
       "<AxesSubplot:xlabel='surface_total', ylabel='Count'>"
      ]
     },
     "execution_count": 28,
     "metadata": {},
     "output_type": "execute_result"
    },
    {
     "data": {
      "image/png": "[encoded data removed]",
      "text/plain": [
       "<Figure size 432x288 with 1 Axes>"
      ]
     },
     "metadata": {
      "needs_background": "light"
     },
     "output_type": "display_data"
    }
   ],
   "source": [
    "#Filter to surface_total\n",
    "sns.histplot(dataFrame.surface_total)"
   ]
  },
  {
   "cell_type": "code",
   "execution_count": 29,
   "id": "f1a6cde4",
   "metadata": {},
   "outputs": [
    {
     "data": {
      "text/plain": [
       "<AxesSubplot:xlabel='price', ylabel='Count'>"
      ]
     },
     "execution_count": 29,
     "metadata": {},
     "output_type": "execute_result"
    },
    {
     "data": {
      "image/png": "[encoded data removed]",
      "text/plain": [
       "<Figure size 432x288 with 1 Axes>"
      ]
     },
     "metadata": {
      "needs_background": "light"
     },
     "output_type": "display_data"
    }
   ],
   "source": [
    "#Filter to price\n",
    "sns.histplot(dataFrame.price)"
   ]
  },
  {
   "cell_type": "markdown",
   "id": "7bb3e2b7",
   "metadata": {},
   "source": [
    "En estos histogramas no es posible observar realemte ningun valor debido a que tenemos muchos datos y hay una dispercion elevada en ellos, muchos datos pero tambien muchos valores atipicos que no nos permiten ver con que datos en realidad contamos."
   ]
  },
  {
   "cell_type": "markdown",
   "id": "6271e25a",
   "metadata": {},
   "source": [
    "### Imputacion de valores faltantes\n",
    "Como se menciono anteriormente antes de hacer la filtracion de datos lo que haremos es imputar los valores faltantes por lo cual lo primero a hacer es consguir un valor para imputar.\n",
    "\n",
    "Buscaremos dar valores nuevos a ***surface_covered, surface_total y bathrooms*** porque son algunas de las instancias con valores faltantes pero tambien porque pueden tener una gran influencia en determinar el precio de la propiedad que es el objetivo que tenemos.\n",
    "\n",
    "Para obtener los valores en el caso de **surface_covered y surface_total** usaremos la **mediana** de todos los datos de estas instancias y asi determinaremos el valor a imputar segun el tipo de propiedad que tenga un valor nulo.\n",
    "Y en el caso de **bathrooms** usaremos la **moda** porque no queremos tener valores incompletos es decir, valores decimales o flotantes, entonces buscaremos la moda de bathrooms para cada tipo de propiedad y de esta manera imputremos los valores. "
   ]
  },
  {
   "cell_type": "code",
   "execution_count": 3,
   "id": "61b54fad",
   "metadata": {},
   "outputs": [
    {
     "data": {
      "text/plain": [
       "{'surface_total': {'Casa': 300.0,\n",
       "  'Casa de campo': 2462.0,\n",
       "  'Cochera': 13.5,\n",
       "  'Departamento': 67.0,\n",
       "  'Depósito': 480.0,\n",
       "  'Local comercial': 106.5,\n",
       "  'Lote': 520.0,\n",
       "  'Oficina': 65.0,\n",
       "  'Otro': 710.0,\n",
       "  'PH': 106.0}}"
      ]
     },
     "execution_count": 3,
     "metadata": {},
     "output_type": "execute_result"
    }
   ],
   "source": [
    "mean_surface = dataFrame[['surface_total','property_type']].groupby('property_type').agg(pd.Series.median)\n",
    "mean_surface.to_dict()"
   ]
  },
  {
   "cell_type": "code",
   "execution_count": 4,
   "id": "7b69645d",
   "metadata": {},
   "outputs": [
    {
     "data": {
      "text/plain": [
       "{'surface_covered': {'Casa': 160.0,\n",
       "  'Casa de campo': 161.5,\n",
       "  'Cochera': 13.5,\n",
       "  'Departamento': 60.0,\n",
       "  'Depósito': 405.0,\n",
       "  'Local comercial': 90.0,\n",
       "  'Lote': 169.0,\n",
       "  'Oficina': 57.0,\n",
       "  'Otro': 144.0,\n",
       "  'PH': 80.0}}"
      ]
     },
     "execution_count": 4,
     "metadata": {},
     "output_type": "execute_result"
    }
   ],
   "source": [
    "mean_surface_covered = dataFrame[['surface_covered','property_type']].groupby('property_type').agg(pd.Series.median)\n",
    "mean_surface_covered.to_dict()"
   ]
  },
  {
   "cell_type": "code",
   "execution_count": 5,
   "id": "6d638f2c",
   "metadata": {},
   "outputs": [
    {
     "data": {
      "text/plain": [
       "{'bathrooms': {'Casa': 2.0,\n",
       "  'Casa de campo': 2.0,\n",
       "  'Cochera': 1.0,\n",
       "  'Departamento': 1.0,\n",
       "  'Depósito': 1.0,\n",
       "  'Local comercial': 1.0,\n",
       "  'Lote': 1.0,\n",
       "  'Oficina': 1.0,\n",
       "  'Otro': 2.0,\n",
       "  'PH': 1.0}}"
      ]
     },
     "execution_count": 5,
     "metadata": {},
     "output_type": "execute_result"
    }
   ],
   "source": [
    "mean_bathrooms = dataFrame[['property_type','bathrooms']].groupby('property_type').agg(pd.Series.mode)\n",
    "mean_bathrooms.to_dict()"
   ]
  },
  {
   "cell_type": "code",
   "execution_count": 6,
   "id": "85ba63cb",
   "metadata": {},
   "outputs": [
    {
     "data": {
      "text/html": [
       "<div>\n",
       "<style scoped>\n",
       "    .dataframe tbody tr th:only-of-type {\n",
       "        vertical-align: middle;\n",
       "    }\n",
       "\n",
       "    .dataframe tbody tr th {\n",
       "        vertical-align: top;\n",
       "    }\n",
       "\n",
       "    .dataframe thead th {\n",
       "        text-align: right;\n",
       "    }\n",
       "</style>\n",
       "<table border=\"1\" class=\"dataframe\">\n",
       "  <thead>\n",
       "    <tr style=\"text-align: right;\">\n",
       "      <th></th>\n",
       "      <th>property_type</th>\n",
       "      <th>start_date</th>\n",
       "      <th>end_date</th>\n",
       "      <th>created_on</th>\n",
       "      <th>lat</th>\n",
       "      <th>lon</th>\n",
       "      <th>l1</th>\n",
       "      <th>l2</th>\n",
       "      <th>l3</th>\n",
       "      <th>rooms</th>\n",
       "      <th>bedrooms</th>\n",
       "      <th>bathrooms</th>\n",
       "      <th>surface_total</th>\n",
       "      <th>surface_covered</th>\n",
       "      <th>price</th>\n",
       "      <th>currency</th>\n",
       "      <th>title</th>\n",
       "      <th>description</th>\n",
       "      <th>operation_type</th>\n",
       "    </tr>\n",
       "  </thead>\n",
       "  <tbody>\n",
       "    <tr>\n",
       "      <th>0</th>\n",
       "      <td>Departamento</td>\n",
       "      <td>2019-10-17</td>\n",
       "      <td>2019-12-23</td>\n",
       "      <td>2019-10-17</td>\n",
       "      <td>-34.605880</td>\n",
       "      <td>-58.384949</td>\n",
       "      <td>Argentina</td>\n",
       "      <td>Capital Federal</td>\n",
       "      <td>San Cristobal</td>\n",
       "      <td>7.0</td>\n",
       "      <td>7.0</td>\n",
       "      <td>2.0</td>\n",
       "      <td>140.0</td>\n",
       "      <td>140.0</td>\n",
       "      <td>153000.0</td>\n",
       "      <td>USD</td>\n",
       "      <td>***Venta semipiso centro, ideal hostel*****</td>\n",
       "      <td>DESCRIPCION DE LA PROPIEDAD: Departamento de 1...</td>\n",
       "      <td>Venta</td>\n",
       "    </tr>\n",
       "    <tr>\n",
       "      <th>1</th>\n",
       "      <td>PH</td>\n",
       "      <td>2019-10-17</td>\n",
       "      <td>2019-11-21</td>\n",
       "      <td>2019-10-17</td>\n",
       "      <td>-34.624056</td>\n",
       "      <td>-58.412110</td>\n",
       "      <td>Argentina</td>\n",
       "      <td>Capital Federal</td>\n",
       "      <td>Boedo</td>\n",
       "      <td>2.0</td>\n",
       "      <td>1.0</td>\n",
       "      <td>2.0</td>\n",
       "      <td>70.0</td>\n",
       "      <td>58.0</td>\n",
       "      <td>159000.0</td>\n",
       "      <td>USD</td>\n",
       "      <td>Espectacular PH reciclado en Boedo sin expensas.</td>\n",
       "      <td>PH reciclado en Boedo a una cuadra de la plaz...</td>\n",
       "      <td>Venta</td>\n",
       "    </tr>\n",
       "    <tr>\n",
       "      <th>2</th>\n",
       "      <td>PH</td>\n",
       "      <td>2019-10-17</td>\n",
       "      <td>2019-11-01</td>\n",
       "      <td>2019-10-17</td>\n",
       "      <td>-34.593569</td>\n",
       "      <td>-58.427474</td>\n",
       "      <td>Argentina</td>\n",
       "      <td>Capital Federal</td>\n",
       "      <td>Palermo</td>\n",
       "      <td>2.0</td>\n",
       "      <td>1.0</td>\n",
       "      <td>1.0</td>\n",
       "      <td>45.0</td>\n",
       "      <td>45.0</td>\n",
       "      <td>125000.0</td>\n",
       "      <td>USD</td>\n",
       "      <td>Depto.tipo casa de 2 ambientes en Venta en Pal...</td>\n",
       "      <td>2 ambienets amplio , excelente estado , patio ...</td>\n",
       "      <td>Venta</td>\n",
       "    </tr>\n",
       "    <tr>\n",
       "      <th>3</th>\n",
       "      <td>PH</td>\n",
       "      <td>2019-10-17</td>\n",
       "      <td>2019-12-23</td>\n",
       "      <td>2019-10-17</td>\n",
       "      <td>-34.581294</td>\n",
       "      <td>-58.436754</td>\n",
       "      <td>Argentina</td>\n",
       "      <td>Capital Federal</td>\n",
       "      <td>Palermo</td>\n",
       "      <td>2.0</td>\n",
       "      <td>1.0</td>\n",
       "      <td>1.0</td>\n",
       "      <td>85.0</td>\n",
       "      <td>50.0</td>\n",
       "      <td>295000.0</td>\n",
       "      <td>USD</td>\n",
       "      <td>COSTA RICA 5800 / PALERMO HOLLYWOOD / VENTA PH...</td>\n",
       "      <td>HERMOSO PH EN PALERMO!!!2 AMBIENTES TOTALMENTE...</td>\n",
       "      <td>Venta</td>\n",
       "    </tr>\n",
       "    <tr>\n",
       "      <th>4</th>\n",
       "      <td>PH</td>\n",
       "      <td>2019-10-17</td>\n",
       "      <td>2020-03-11</td>\n",
       "      <td>2019-10-17</td>\n",
       "      <td>-34.914194</td>\n",
       "      <td>-57.938219</td>\n",
       "      <td>Argentina</td>\n",
       "      <td>Bs.As. G.B.A. Zona Sur</td>\n",
       "      <td>La Plata</td>\n",
       "      <td>2.0</td>\n",
       "      <td>1.0</td>\n",
       "      <td>1.0</td>\n",
       "      <td>50.0</td>\n",
       "      <td>35.0</td>\n",
       "      <td>40000.0</td>\n",
       "      <td>USD</td>\n",
       "      <td>58 entre 1 y 2  Venta de departamento en ph.1 ...</td>\n",
       "      <td>58 entre 1 y 2  Venta de departamento en PH. P...</td>\n",
       "      <td>Venta</td>\n",
       "    </tr>\n",
       "  </tbody>\n",
       "</table>\n",
       "</div>"
      ],
      "text/plain": [
       "  property_type  start_date    end_date  created_on        lat        lon  \\\n",
       "0  Departamento  2019-10-17  2019-12-23  2019-10-17 -34.605880 -58.384949   \n",
       "1            PH  2019-10-17  2019-11-21  2019-10-17 -34.624056 -58.412110   \n",
       "2            PH  2019-10-17  2019-11-01  2019-10-17 -34.593569 -58.427474   \n",
       "3            PH  2019-10-17  2019-12-23  2019-10-17 -34.581294 -58.436754   \n",
       "4            PH  2019-10-17  2020-03-11  2019-10-17 -34.914194 -57.938219   \n",
       "\n",
       "          l1                      l2             l3  rooms  bedrooms  \\\n",
       "0  Argentina         Capital Federal  San Cristobal    7.0       7.0   \n",
       "1  Argentina         Capital Federal          Boedo    2.0       1.0   \n",
       "2  Argentina         Capital Federal        Palermo    2.0       1.0   \n",
       "3  Argentina         Capital Federal        Palermo    2.0       1.0   \n",
       "4  Argentina  Bs.As. G.B.A. Zona Sur       La Plata    2.0       1.0   \n",
       "\n",
       "   bathrooms  surface_total  surface_covered     price currency  \\\n",
       "0        2.0          140.0            140.0  153000.0      USD   \n",
       "1        2.0           70.0             58.0  159000.0      USD   \n",
       "2        1.0           45.0             45.0  125000.0      USD   \n",
       "3        1.0           85.0             50.0  295000.0      USD   \n",
       "4        1.0           50.0             35.0   40000.0      USD   \n",
       "\n",
       "                                               title  \\\n",
       "0        ***Venta semipiso centro, ideal hostel*****   \n",
       "1   Espectacular PH reciclado en Boedo sin expensas.   \n",
       "2  Depto.tipo casa de 2 ambientes en Venta en Pal...   \n",
       "3  COSTA RICA 5800 / PALERMO HOLLYWOOD / VENTA PH...   \n",
       "4  58 entre 1 y 2  Venta de departamento en ph.1 ...   \n",
       "\n",
       "                                         description operation_type  \n",
       "0  DESCRIPCION DE LA PROPIEDAD: Departamento de 1...          Venta  \n",
       "1   PH reciclado en Boedo a una cuadra de la plaz...          Venta  \n",
       "2  2 ambienets amplio , excelente estado , patio ...          Venta  \n",
       "3  HERMOSO PH EN PALERMO!!!2 AMBIENTES TOTALMENTE...          Venta  \n",
       "4  58 entre 1 y 2  Venta de departamento en PH. P...          Venta  "
      ]
     },
     "execution_count": 6,
     "metadata": {},
     "output_type": "execute_result"
    }
   ],
   "source": [
    "dataFrame = dataFrame.set_index(\"property_type\")\n",
    "dataFrame.surface_total.fillna(mean_surface.to_dict()[\"surface_total\"], inplace=True)\n",
    "dataFrame.surface_covered.fillna(mean_surface_covered.to_dict()[\"surface_covered\"], inplace=True)\n",
    "dataFrame.bathrooms.fillna(mean_bathrooms.to_dict()[\"bathrooms\"], inplace=True)\n",
    "dataFrame.reset_index(inplace=True)\n",
    "dataFrame.head()"
   ]
  },
  {
   "cell_type": "markdown",
   "id": "cc5e64f2",
   "metadata": {},
   "source": [
    "Como podemos observar despues de imputar lo valores estos dejan de ser faltantes en nuestro data frame y ahora podemos proceder a hacer una filtracion edacuerdo a lo que buscamos."
   ]
  },
  {
   "cell_type": "code",
   "execution_count": 34,
   "id": "80dcfaae",
   "metadata": {},
   "outputs": [
    {
     "name": "stdout",
     "output_type": "stream",
     "text": [
      "property_type         0\n",
      "start_date            0\n",
      "end_date              0\n",
      "created_on            0\n",
      "lat                9925\n",
      "lon                9959\n",
      "l1                    0\n",
      "l2                    0\n",
      "l3                    0\n",
      "rooms                 0\n",
      "bedrooms              0\n",
      "bathrooms             0\n",
      "surface_total         0\n",
      "surface_covered       0\n",
      "price                 0\n",
      "currency              0\n",
      "title                 0\n",
      "description           0\n",
      "operation_type        0\n",
      "dtype: int64\n"
     ]
    }
   ],
   "source": [
    "missing_values = dataFrame.isna().sum()\n",
    "print(missing_values)"
   ]
  },
  {
   "cell_type": "markdown",
   "id": "daf794dc",
   "metadata": {},
   "source": [
    "Cabe destacar que no imputamos valores para **lat y lon** porque se requiere un metodo diferente para hacer y no pretendemos utilizarlas en estre proyecto como variables del predictor."
   ]
  },
  {
   "cell_type": "markdown",
   "id": "d999df6a",
   "metadata": {},
   "source": [
    "### Filtrado"
   ]
  },
  {
   "cell_type": "code",
   "execution_count": 7,
   "id": "91bb9b63",
   "metadata": {},
   "outputs": [
    {
     "data": {
      "text/html": [
       "<div>\n",
       "<style scoped>\n",
       "    .dataframe tbody tr th:only-of-type {\n",
       "        vertical-align: middle;\n",
       "    }\n",
       "\n",
       "    .dataframe tbody tr th {\n",
       "        vertical-align: top;\n",
       "    }\n",
       "\n",
       "    .dataframe thead th {\n",
       "        text-align: right;\n",
       "    }\n",
       "</style>\n",
       "<table border=\"1\" class=\"dataframe\">\n",
       "  <thead>\n",
       "    <tr style=\"text-align: right;\">\n",
       "      <th></th>\n",
       "      <th>property_type</th>\n",
       "      <th>start_date</th>\n",
       "      <th>end_date</th>\n",
       "      <th>created_on</th>\n",
       "      <th>lat</th>\n",
       "      <th>lon</th>\n",
       "      <th>l1</th>\n",
       "      <th>l2</th>\n",
       "      <th>l3</th>\n",
       "      <th>rooms</th>\n",
       "      <th>bedrooms</th>\n",
       "      <th>bathrooms</th>\n",
       "      <th>surface_total</th>\n",
       "      <th>surface_covered</th>\n",
       "      <th>price</th>\n",
       "      <th>currency</th>\n",
       "      <th>title</th>\n",
       "      <th>description</th>\n",
       "      <th>operation_type</th>\n",
       "    </tr>\n",
       "  </thead>\n",
       "  <tbody>\n",
       "    <tr>\n",
       "      <th>0</th>\n",
       "      <td>Departamento</td>\n",
       "      <td>2019-10-17</td>\n",
       "      <td>2019-12-23</td>\n",
       "      <td>2019-10-17</td>\n",
       "      <td>-34.605880</td>\n",
       "      <td>-58.384949</td>\n",
       "      <td>Argentina</td>\n",
       "      <td>Capital Federal</td>\n",
       "      <td>San Cristobal</td>\n",
       "      <td>7.0</td>\n",
       "      <td>7.0</td>\n",
       "      <td>2.0</td>\n",
       "      <td>140.0</td>\n",
       "      <td>140.0</td>\n",
       "      <td>153000.0</td>\n",
       "      <td>USD</td>\n",
       "      <td>***Venta semipiso centro, ideal hostel*****</td>\n",
       "      <td>DESCRIPCION DE LA PROPIEDAD: Departamento de 1...</td>\n",
       "      <td>Venta</td>\n",
       "    </tr>\n",
       "    <tr>\n",
       "      <th>1</th>\n",
       "      <td>PH</td>\n",
       "      <td>2019-10-17</td>\n",
       "      <td>2019-11-21</td>\n",
       "      <td>2019-10-17</td>\n",
       "      <td>-34.624056</td>\n",
       "      <td>-58.412110</td>\n",
       "      <td>Argentina</td>\n",
       "      <td>Capital Federal</td>\n",
       "      <td>Boedo</td>\n",
       "      <td>2.0</td>\n",
       "      <td>1.0</td>\n",
       "      <td>2.0</td>\n",
       "      <td>70.0</td>\n",
       "      <td>58.0</td>\n",
       "      <td>159000.0</td>\n",
       "      <td>USD</td>\n",
       "      <td>Espectacular PH reciclado en Boedo sin expensas.</td>\n",
       "      <td>PH reciclado en Boedo a una cuadra de la plaz...</td>\n",
       "      <td>Venta</td>\n",
       "    </tr>\n",
       "    <tr>\n",
       "      <th>2</th>\n",
       "      <td>PH</td>\n",
       "      <td>2019-10-17</td>\n",
       "      <td>2019-11-01</td>\n",
       "      <td>2019-10-17</td>\n",
       "      <td>-34.593569</td>\n",
       "      <td>-58.427474</td>\n",
       "      <td>Argentina</td>\n",
       "      <td>Capital Federal</td>\n",
       "      <td>Palermo</td>\n",
       "      <td>2.0</td>\n",
       "      <td>1.0</td>\n",
       "      <td>1.0</td>\n",
       "      <td>45.0</td>\n",
       "      <td>45.0</td>\n",
       "      <td>125000.0</td>\n",
       "      <td>USD</td>\n",
       "      <td>Depto.tipo casa de 2 ambientes en Venta en Pal...</td>\n",
       "      <td>2 ambienets amplio , excelente estado , patio ...</td>\n",
       "      <td>Venta</td>\n",
       "    </tr>\n",
       "    <tr>\n",
       "      <th>3</th>\n",
       "      <td>PH</td>\n",
       "      <td>2019-10-17</td>\n",
       "      <td>2019-12-23</td>\n",
       "      <td>2019-10-17</td>\n",
       "      <td>-34.581294</td>\n",
       "      <td>-58.436754</td>\n",
       "      <td>Argentina</td>\n",
       "      <td>Capital Federal</td>\n",
       "      <td>Palermo</td>\n",
       "      <td>2.0</td>\n",
       "      <td>1.0</td>\n",
       "      <td>1.0</td>\n",
       "      <td>85.0</td>\n",
       "      <td>50.0</td>\n",
       "      <td>295000.0</td>\n",
       "      <td>USD</td>\n",
       "      <td>COSTA RICA 5800 / PALERMO HOLLYWOOD / VENTA PH...</td>\n",
       "      <td>HERMOSO PH EN PALERMO!!!2 AMBIENTES TOTALMENTE...</td>\n",
       "      <td>Venta</td>\n",
       "    </tr>\n",
       "    <tr>\n",
       "      <th>5</th>\n",
       "      <td>PH</td>\n",
       "      <td>2019-10-17</td>\n",
       "      <td>2019-11-01</td>\n",
       "      <td>2019-10-17</td>\n",
       "      <td>-34.593779</td>\n",
       "      <td>-58.441239</td>\n",
       "      <td>Argentina</td>\n",
       "      <td>Capital Federal</td>\n",
       "      <td>Villa Crespo</td>\n",
       "      <td>2.0</td>\n",
       "      <td>1.0</td>\n",
       "      <td>1.0</td>\n",
       "      <td>56.0</td>\n",
       "      <td>56.0</td>\n",
       "      <td>150000.0</td>\n",
       "      <td>USD</td>\n",
       "      <td>Depto.tipo casa de 2 ambientes en Venta en Vil...</td>\n",
       "      <td>Excelente ph solo 2 unidades, no paga expensas...</td>\n",
       "      <td>Venta</td>\n",
       "    </tr>\n",
       "  </tbody>\n",
       "</table>\n",
       "</div>"
      ],
      "text/plain": [
       "  property_type  start_date    end_date  created_on        lat        lon  \\\n",
       "0  Departamento  2019-10-17  2019-12-23  2019-10-17 -34.605880 -58.384949   \n",
       "1            PH  2019-10-17  2019-11-21  2019-10-17 -34.624056 -58.412110   \n",
       "2            PH  2019-10-17  2019-11-01  2019-10-17 -34.593569 -58.427474   \n",
       "3            PH  2019-10-17  2019-12-23  2019-10-17 -34.581294 -58.436754   \n",
       "5            PH  2019-10-17  2019-11-01  2019-10-17 -34.593779 -58.441239   \n",
       "\n",
       "          l1               l2             l3  rooms  bedrooms  bathrooms  \\\n",
       "0  Argentina  Capital Federal  San Cristobal    7.0       7.0        2.0   \n",
       "1  Argentina  Capital Federal          Boedo    2.0       1.0        2.0   \n",
       "2  Argentina  Capital Federal        Palermo    2.0       1.0        1.0   \n",
       "3  Argentina  Capital Federal        Palermo    2.0       1.0        1.0   \n",
       "5  Argentina  Capital Federal   Villa Crespo    2.0       1.0        1.0   \n",
       "\n",
       "   surface_total  surface_covered     price currency  \\\n",
       "0          140.0            140.0  153000.0      USD   \n",
       "1           70.0             58.0  159000.0      USD   \n",
       "2           45.0             45.0  125000.0      USD   \n",
       "3           85.0             50.0  295000.0      USD   \n",
       "5           56.0             56.0  150000.0      USD   \n",
       "\n",
       "                                               title  \\\n",
       "0        ***Venta semipiso centro, ideal hostel*****   \n",
       "1   Espectacular PH reciclado en Boedo sin expensas.   \n",
       "2  Depto.tipo casa de 2 ambientes en Venta en Pal...   \n",
       "3  COSTA RICA 5800 / PALERMO HOLLYWOOD / VENTA PH...   \n",
       "5  Depto.tipo casa de 2 ambientes en Venta en Vil...   \n",
       "\n",
       "                                         description operation_type  \n",
       "0  DESCRIPCION DE LA PROPIEDAD: Departamento de 1...          Venta  \n",
       "1   PH reciclado en Boedo a una cuadra de la plaz...          Venta  \n",
       "2  2 ambienets amplio , excelente estado , patio ...          Venta  \n",
       "3  HERMOSO PH EN PALERMO!!!2 AMBIENTES TOTALMENTE...          Venta  \n",
       "5  Excelente ph solo 2 unidades, no paga expensas...          Venta  "
      ]
     },
     "execution_count": 7,
     "metadata": {},
     "output_type": "execute_result"
    }
   ],
   "source": [
    "#Data filter\n",
    "filter_data = dataFrame[(dataFrame['price'] <= 2500000) & (dataFrame['surface_total'] >= 15) & (dataFrame['surface_total'] <= 800)]\n",
    "adjust_data = filter_data[(filter_data['surface_covered'] <= filter_data['surface_total']) & (filter_data['l2'] == 'Capital Federal')]\n",
    "adjust_data.head()"
   ]
  },
  {
   "cell_type": "markdown",
   "id": "b4341bdf",
   "metadata": {},
   "source": [
    "El filtro aplicado reduce muchos valores de los datos sin embargo le da una mayor fidelidad a los algoritmos a utilizar y de esta forma nuestra predicciones seran mejores y mas efectivas.\n",
    "\n",
    "##### Filtros aplicados\n",
    "- ***Precio menor o igual a 2,500,000 DLS***: Usamos este filtro porque valores mas elevados a este son atipicos, es decir la mayoria de los datos recopilados estan en este rango (0 - 2,500,000) por lo cual al quitar valores atipicos podemos ganar mayor precision.\n",
    "- ***Filtrado de superficie***: Con este filtro descartamos las propiedades mas pequeñas (menores a 15 m²) y las mas grandes (mayores a 800 m²) ya que los clientes finales segun los datos recabados en este dataset prefieren propiedades de tamaños mas moderados, es decir dimensiones de casas y apartamentos.\n",
    "- ***Filtro de ajuste en superficie***: Aplicamos un filtro a las dimensiones (aparte de los anteriormente mencionados) ya que pudo haber errores al insertar o recolectar datos por lo cual la superficie cubierta no púede superar a la superficie total, es decir el area de la vivienda no puede ser mayor al area total del terreno.\n",
    "- ***Filtro de zona***: La zona en la que trabajaremos principalmente sera Capital Federal debido a que la mayor cantidad de datos provieen de aqui"
   ]
  },
  {
   "cell_type": "markdown",
   "id": "60603972",
   "metadata": {},
   "source": [
    "### Analisis de datos pos-filtrado"
   ]
  },
  {
   "cell_type": "code",
   "execution_count": 36,
   "id": "f5937704",
   "metadata": {},
   "outputs": [
    {
     "data": {
      "text/plain": [
       "<AxesSubplot:xlabel='surface_total', ylabel='Count'>"
      ]
     },
     "execution_count": 36,
     "metadata": {},
     "output_type": "execute_result"
    },
    {
     "data": {
      "image/png": "[encoded data removed]",
      "text/plain": [
       "<Figure size 432x288 with 1 Axes>"
      ]
     },
     "metadata": {
      "needs_background": "light"
     },
     "output_type": "display_data"
    }
   ],
   "source": [
    "#Pos-filter to surface_total\n",
    "sns.histplot(adjust_data.surface_total)"
   ]
  },
  {
   "cell_type": "code",
   "execution_count": 37,
   "id": "b0f00f71",
   "metadata": {},
   "outputs": [
    {
     "data": {
      "text/plain": [
       "<AxesSubplot:xlabel='price', ylabel='Count'>"
      ]
     },
     "execution_count": 37,
     "metadata": {},
     "output_type": "execute_result"
    },
    {
     "data": {
      "image/png": "[encoded data removed]",
      "text/plain": [
       "<Figure size 432x288 with 1 Axes>"
      ]
     },
     "metadata": {
      "needs_background": "light"
     },
     "output_type": "display_data"
    }
   ],
   "source": [
    "#Pos-filter to price\n",
    "sns.histplot(adjust_data.price)"
   ]
  },
  {
   "cell_type": "markdown",
   "id": "2777ee85",
   "metadata": {},
   "source": [
    "Los siguientes histogramas son muy claros por lo que podemos darnos cuenta que nuestros datos en su mayoria estan cercanos y la dispresion es muy poca a diferencia de nuestra **\"data cruda\"** que teniamos en el pre-filtrado.\n",
    "\n",
    "Ahora comprobamos las relaciones entre instancias."
   ]
  },
  {
   "cell_type": "code",
   "execution_count": 38,
   "id": "6d6a85e2",
   "metadata": {},
   "outputs": [
    {
     "data": {
      "image/png": "[encoded data removed]",
      "text/plain": [
       "<Figure size 504x360 with 2 Axes>"
      ]
     },
     "metadata": {
      "needs_background": "light"
     },
     "output_type": "display_data"
    }
   ],
   "source": [
    "corr_adjust_values = adjust_data.corr()\n",
    "f, ax = plt.subplots(figsize=(7, 5))\n",
    "ax = sns.heatmap(corr_adjust_values,\n",
    "                cmap='coolwarm',\n",
    "                annot=True)"
   ]
  },
  {
   "cell_type": "markdown",
   "id": "a464d2ce",
   "metadata": {},
   "source": [
    "Como vemos a diferencia de nuestro mapa de correlacion pre-filtrado ahora las varaibles han ganado alta relacion lo cual es util para poder hacer los ajustes y trabajar con el modelo de machine learning.\n"
   ]
  },
  {
   "cell_type": "markdown",
   "id": "8ec90b7a",
   "metadata": {},
   "source": [
    "### PCA \n",
    "Para terminar la modificacion de nuestros datos los transformamos aplicamos un modelado de PCA para reducir la varianza y mantener nuestros datos juntos de tal forma que usemos los datos de las variables en menos columnas.\n",
    "\n",
    "Lo primero es separar nuestros datos en X e Y para asi posteriormente aplicarlos a nustros modelos avanzados."
   ]
  },
  {
   "cell_type": "code",
   "execution_count": 8,
   "id": "bb06a606",
   "metadata": {},
   "outputs": [],
   "source": [
    "features = ['rooms','bedrooms','bathrooms','surface_total','surface_covered']\n",
    "\n",
    "X = adjust_data.loc[:,features].values\n",
    "\n",
    "Y = adjust_data.loc[:,['price']].values "
   ]
  },
  {
   "cell_type": "code",
   "execution_count": 9,
   "id": "7b13c747",
   "metadata": {},
   "outputs": [
    {
     "data": {
      "text/html": [
       "<div>\n",
       "<style scoped>\n",
       "    .dataframe tbody tr th:only-of-type {\n",
       "        vertical-align: middle;\n",
       "    }\n",
       "\n",
       "    .dataframe tbody tr th {\n",
       "        vertical-align: top;\n",
       "    }\n",
       "\n",
       "    .dataframe thead th {\n",
       "        text-align: right;\n",
       "    }\n",
       "</style>\n",
       "<table border=\"1\" class=\"dataframe\">\n",
       "  <thead>\n",
       "    <tr style=\"text-align: right;\">\n",
       "      <th></th>\n",
       "      <th>Component 1</th>\n",
       "      <th>Component 2</th>\n",
       "    </tr>\n",
       "  </thead>\n",
       "  <tbody>\n",
       "    <tr>\n",
       "      <th>0</th>\n",
       "      <td>73.322654</td>\n",
       "      <td>-20.689837</td>\n",
       "    </tr>\n",
       "    <tr>\n",
       "      <th>1</th>\n",
       "      <td>-31.891227</td>\n",
       "      <td>3.313266</td>\n",
       "    </tr>\n",
       "    <tr>\n",
       "      <th>2</th>\n",
       "      <td>-59.708194</td>\n",
       "      <td>-1.198736</td>\n",
       "    </tr>\n",
       "    <tr>\n",
       "      <th>3</th>\n",
       "      <td>-24.649942</td>\n",
       "      <td>18.698135</td>\n",
       "    </tr>\n",
       "    <tr>\n",
       "      <th>4</th>\n",
       "      <td>-44.316570</td>\n",
       "      <td>-3.442732</td>\n",
       "    </tr>\n",
       "    <tr>\n",
       "      <th>...</th>\n",
       "      <td>...</td>\n",
       "      <td>...</td>\n",
       "    </tr>\n",
       "    <tr>\n",
       "      <th>90841</th>\n",
       "      <td>84.002110</td>\n",
       "      <td>23.532071</td>\n",
       "    </tr>\n",
       "    <tr>\n",
       "      <th>90842</th>\n",
       "      <td>72.865306</td>\n",
       "      <td>-13.405060</td>\n",
       "    </tr>\n",
       "    <tr>\n",
       "      <th>90843</th>\n",
       "      <td>216.959358</td>\n",
       "      <td>82.758437</td>\n",
       "    </tr>\n",
       "    <tr>\n",
       "      <th>90844</th>\n",
       "      <td>80.239199</td>\n",
       "      <td>-21.625305</td>\n",
       "    </tr>\n",
       "    <tr>\n",
       "      <th>90845</th>\n",
       "      <td>179.242153</td>\n",
       "      <td>-28.950637</td>\n",
       "    </tr>\n",
       "  </tbody>\n",
       "</table>\n",
       "<p>90846 rows × 2 columns</p>\n",
       "</div>"
      ],
      "text/plain": [
       "       Component 1  Component 2\n",
       "0        73.322654   -20.689837\n",
       "1       -31.891227     3.313266\n",
       "2       -59.708194    -1.198736\n",
       "3       -24.649942    18.698135\n",
       "4       -44.316570    -3.442732\n",
       "...            ...          ...\n",
       "90841    84.002110    23.532071\n",
       "90842    72.865306   -13.405060\n",
       "90843   216.959358    82.758437\n",
       "90844    80.239199   -21.625305\n",
       "90845   179.242153   -28.950637\n",
       "\n",
       "[90846 rows x 2 columns]"
      ]
     },
     "execution_count": 9,
     "metadata": {},
     "output_type": "execute_result"
    }
   ],
   "source": [
    "from sklearn.decomposition import PCA\n",
    "pca_algorithm = PCA(n_components=2)\n",
    "data_transformed = pca_algorithm.fit_transform(X)\n",
    "\n",
    "data_X_transformed = pd.DataFrame(data=data_transformed, columns = ['Component 1','Component 2'])\n",
    "data_X_transformed"
   ]
  },
  {
   "cell_type": "markdown",
   "id": "52314d80",
   "metadata": {},
   "source": [
    "Observamov la varianza y como ha pasado de **95%** a menos del **10%**"
   ]
  },
  {
   "cell_type": "code",
   "execution_count": 10,
   "id": "7adc5827",
   "metadata": {},
   "outputs": [
    {
     "data": {
      "text/plain": [
       "array([0.9589211 , 0.04086947])"
      ]
     },
     "execution_count": 10,
     "metadata": {},
     "output_type": "execute_result"
    }
   ],
   "source": [
    "pca_algorithm.explained_variance_ratio_"
   ]
  },
  {
   "cell_type": "markdown",
   "id": "d883e66e",
   "metadata": {},
   "source": [
    "## Algoritmo de Prediccion"
   ]
  },
  {
   "cell_type": "markdown",
   "id": "035bd1d2",
   "metadata": {},
   "source": [
    "En las siguientes secciones buscaremos crear el mejor modelo de machine learning posible con el  cual podamos hacer las predicciones de precios de tal forma que sea  lo mas eficiente posibles (es decir, que no consuma demasiados recursos en cuanto a memoria se refiere y que siga siendo efectivo).\n",
    "\n",
    "Lo primero que se hara es **escalar los datos** ya que aunque el modelo de PCA junto nuestros datos buscamos que al introducir los datos en lo modelos no haya desfases y tambien podamos elimiar valores atipicos en los resultdaos."
   ]
  },
  {
   "cell_type": "code",
   "execution_count": 10,
   "id": "5c7b05c9",
   "metadata": {},
   "outputs": [
    {
     "data": {
      "text/plain": [
       "StandardScaler()"
      ]
     },
     "execution_count": 10,
     "metadata": {},
     "output_type": "execute_result"
    }
   ],
   "source": [
    "from sklearn.preprocessing import StandardScaler\n",
    "scaler = StandardScaler()\n",
    "scaler.fit(X)"
   ]
  },
  {
   "cell_type": "code",
   "execution_count": 11,
   "id": "ff1888be",
   "metadata": {},
   "outputs": [],
   "source": [
    "scaler_X_data=scaler.transform(X)"
   ]
  },
  {
   "cell_type": "markdown",
   "id": "424d28e4",
   "metadata": {},
   "source": [
    "Despues de escalar los datos procedemos a importar las librerias que usaremos para desarrollar nuestro modelo de machine learning y hacemos un **\"train-test split\"** para separar nuestros datos para poder entrenar asi como probar uestros modelos, con esto queremos observar el comportamineto de los diferentes **moelos y ensambles**, esto nos ayudara posteriormente a escoger el que mejor puede funcinar para nuestro proposito."
   ]
  },
  {
   "cell_type": "code",
   "execution_count": 12,
   "id": "ac72e77d",
   "metadata": {},
   "outputs": [],
   "source": [
    "from sklearn.neighbors import KNeighborsRegressor\n",
    "from sklearn.model_selection import train_test_split\n",
    "from sklearn.ensemble import RandomForestRegressor, BaggingRegressor, GradientBoostingRegressor, VotingRegressor\n",
    "from sklearn.datasets import make_regression\n",
    "\n",
    "x_train, x_test, y_train, y_test = train_test_split(scaler_X_data,Y,test_size=0.3, random_state=45)"
   ]
  },
  {
   "cell_type": "markdown",
   "id": "f662d26b",
   "metadata": {},
   "source": [
    "### Mejorando Hiperparametros"
   ]
  },
  {
   "cell_type": "markdown",
   "id": "688d401b",
   "metadata": {},
   "source": [
    "En la busqueda de el o los moejores modelos muchas veces es conveniente (la mayoria del tiempo) **optimizar los hiperparametros** de los modelo para buscar obtener los mejores resultados en los modelos y sustituir el metodo de tanteo u otros metodos mas tediosos que podrian no ser tan efectivos.\n",
    "Usaremos **\"Random Search\"** y **\"Grid Search\"** para mejorar los hiperparametros de uno de los modelos a usar y deteerminaremos cual nos da los mejores resultados y si es conveniente usarlo para este modelo.\n",
    "\n",
    "Empezando con Random Search importamos la libreria y agregamos los parametros y las caracteristicas que queremos que combine para obtener los mejores resultados que podemos esperar en una estimacion en el modelo."
   ]
  },
  {
   "cell_type": "code",
   "execution_count": 30,
   "id": "16ecefec",
   "metadata": {},
   "outputs": [],
   "source": [
    "from sklearn.model_selection import RandomizedSearchCV"
   ]
  },
  {
   "cell_type": "code",
   "execution_count": 31,
   "id": "61bf6c2c",
   "metadata": {},
   "outputs": [],
   "source": [
    "# ═ Params ═\n",
    "n_estimators = [int(x) for x in  np.linspace(start=10, stop=70, num =10)]\n",
    "max_depth = [2, 4]\n",
    "min_samples_split = [2, 5]\n",
    "min_samples_leaf = [2, 1]\n",
    "max_features = ['auto','sqrt', 'log2']\n",
    "\n",
    "params_grid = {\n",
    "    'n_estimators':n_estimators,\n",
    "    'max_depth':max_depth,\n",
    "    'min_samples_split':min_samples_split,\n",
    "    'min_samples_leaf':min_samples_leaf,\n",
    "    'max_features':max_features\n",
    "}"
   ]
  },
  {
   "cell_type": "markdown",
   "id": "66d827af",
   "metadata": {},
   "source": [
    "Al entrenar el modelo se uso el maximo posible de iteraciones para poder tener el mejor resultado y el modelo para el cual buscamos mejorar los hiperparametros es **\"Random Forest Regressor\"**."
   ]
  },
  {
   "cell_type": "code",
   "execution_count": 58,
   "id": "8424443e",
   "metadata": {},
   "outputs": [],
   "source": [
    "model = RandomizedSearchCV(RandomForestRegressor(), param_distributions=params_grid, cv=10, random_state=0, n_iter=240, verbose=2, n_jobs=4)"
   ]
  },
  {
   "cell_type": "code",
   "execution_count": 59,
   "id": "1c946f0d",
   "metadata": {},
   "outputs": [
    {
     "name": "stdout",
     "output_type": "stream",
     "text": [
      "Fitting 10 folds for each of 240 candidates, totalling 2400 fits\n"
     ]
    },
    {
     "data": {
      "text/plain": [
       "RandomizedSearchCV(cv=10, estimator=RandomForestRegressor(), n_iter=240,\n",
       "                   n_jobs=4,\n",
       "                   param_distributions={'max_depth': [2, 4],\n",
       "                                        'max_features': ['auto', 'sqrt',\n",
       "                                                         'log2'],\n",
       "                                        'min_samples_leaf': [2, 1],\n",
       "                                        'min_samples_split': [2, 5],\n",
       "                                        'n_estimators': [10, 16, 23, 30, 36, 43,\n",
       "                                                         50, 56, 63, 70]},\n",
       "                   random_state=0, verbose=2)"
      ]
     },
     "execution_count": 59,
     "metadata": {},
     "output_type": "execute_result"
    }
   ],
   "source": [
    "model.fit(x_train, y_train.ravel())"
   ]
  },
  {
   "cell_type": "markdown",
   "id": "e6bb90d9",
   "metadata": {},
   "source": [
    "Esta fue la mejor combinacion de hiperparametros y posteriormente lo probaremos, para escoger el que nos de el resultado mas alto en el modelo."
   ]
  },
  {
   "cell_type": "code",
   "execution_count": 60,
   "id": "e4a7082f",
   "metadata": {},
   "outputs": [
    {
     "data": {
      "text/plain": [
       "{'n_estimators': 23,\n",
       " 'min_samples_split': 5,\n",
       " 'min_samples_leaf': 1,\n",
       " 'max_features': 'log2',\n",
       " 'max_depth': 4}"
      ]
     },
     "execution_count": 60,
     "metadata": {},
     "output_type": "execute_result"
    }
   ],
   "source": [
    "model.best_params_"
   ]
  },
  {
   "cell_type": "markdown",
   "id": "347e588f",
   "metadata": {},
   "source": [
    "Para Grid Search lo primero es agregar su libreria, posterior a eso traemos el moelo y colocamos sus parametros y entrenamos."
   ]
  },
  {
   "cell_type": "code",
   "execution_count": 32,
   "id": "2a53cc13",
   "metadata": {},
   "outputs": [],
   "source": [
    "from sklearn.model_selection import GridSearchCV"
   ]
  },
  {
   "cell_type": "code",
   "execution_count": 33,
   "id": "3a6d1c04",
   "metadata": {},
   "outputs": [],
   "source": [
    "model_grid = GridSearchCV(RandomForestRegressor(), params_grid, cv = 5)"
   ]
  },
  {
   "cell_type": "code",
   "execution_count": 34,
   "id": "246aa219",
   "metadata": {},
   "outputs": [
    {
     "data": {
      "text/plain": [
       "GridSearchCV(cv=5, estimator=RandomForestRegressor(),\n",
       "             param_grid={'max_depth': [2, 4],\n",
       "                         'max_features': ['auto', 'sqrt', 'log2'],\n",
       "                         'min_samples_leaf': [2, 1],\n",
       "                         'min_samples_split': [2, 5],\n",
       "                         'n_estimators': [10, 16, 23, 30, 36, 43, 50, 56, 63,\n",
       "                                          70]})"
      ]
     },
     "execution_count": 34,
     "metadata": {},
     "output_type": "execute_result"
    }
   ],
   "source": [
    "model_grid.fit(x_train, y_train.ravel())"
   ]
  },
  {
   "cell_type": "code",
   "execution_count": 35,
   "id": "3308da41",
   "metadata": {},
   "outputs": [
    {
     "data": {
      "text/plain": [
       "{'max_depth': 4,\n",
       " 'max_features': 'sqrt',\n",
       " 'min_samples_leaf': 1,\n",
       " 'min_samples_split': 5,\n",
       " 'n_estimators': 50}"
      ]
     },
     "execution_count": 35,
     "metadata": {},
     "output_type": "execute_result"
    }
   ],
   "source": [
    "model_grid.best_params_"
   ]
  },
  {
   "cell_type": "markdown",
   "id": "258d46c9",
   "metadata": {},
   "source": [
    "### Modelos Avanzados Machine Learning"
   ]
  },
  {
   "cell_type": "markdown",
   "id": "26173360",
   "metadata": {},
   "source": [
    "Despues de buscar los mejores parametros vamos a comparar como obtenemos los mejores resultados en los modelos, usando los hiperparametros que obtuvimos con RandomSearch y GridSearch o solamente usando el modelo y dejando que este escoja todos los valores, y agregar solamente algunos."
   ]
  },
  {
   "cell_type": "code",
   "execution_count": 16,
   "id": "80091eb7",
   "metadata": {},
   "outputs": [
    {
     "data": {
      "text/plain": [
       "RandomForestRegressor(max_depth=4, max_features='log2', min_samples_split=5,\n",
       "                      n_estimators=23)"
      ]
     },
     "execution_count": 16,
     "metadata": {},
     "output_type": "execute_result"
    }
   ],
   "source": [
    "#═══════════════ Random Forest Ensemble (Optimized by RandomSearch)═══════════════\n",
    "algorithm_RFRS = RandomForestRegressor(n_estimators=23, min_samples_split=5, min_samples_leaf=1, max_features='log2', max_depth=4)\n",
    "algorithm_RFRS.fit(x_train, y_train.ravel())"
   ]
  },
  {
   "cell_type": "code",
   "execution_count": 17,
   "id": "24d87341",
   "metadata": {},
   "outputs": [
    {
     "data": {
      "text/plain": [
       "0.6387772043825375"
      ]
     },
     "execution_count": 17,
     "metadata": {},
     "output_type": "execute_result"
    }
   ],
   "source": [
    "algorithm_RFRS.score(x_test, y_test)"
   ]
  },
  {
   "cell_type": "markdown",
   "id": "59422514",
   "metadata": {},
   "source": [
    "Viendo estos resultados lo primero que notamos es que nuestro resultado es apenas optimo, ya que este solo supero el 50% y estamos en busqueda de un valor cercano al 100% en la medida de lo posible, por lo cual descartamos el uso de los hiperparametros de RandomSearch."
   ]
  },
  {
   "cell_type": "code",
   "execution_count": 40,
   "id": "b3df1463",
   "metadata": {},
   "outputs": [
    {
     "data": {
      "text/plain": [
       "RandomForestRegressor(max_depth=4, max_features='sqrt', min_samples_split=5,\n",
       "                      n_estimators=50)"
      ]
     },
     "execution_count": 40,
     "metadata": {},
     "output_type": "execute_result"
    }
   ],
   "source": [
    "#═══════════════ Random Forest Ensemble (Optimized by GridSearch)═══════════════\n",
    "algorithm_RFGS = RandomForestRegressor(n_estimators=50, min_samples_split=5, min_samples_leaf=1, max_features='sqrt', max_depth=4)\n",
    "algorithm_RFGS.fit(x_train, y_train.ravel())"
   ]
  },
  {
   "cell_type": "code",
   "execution_count": 41,
   "id": "a071fff1",
   "metadata": {},
   "outputs": [
    {
     "data": {
      "text/plain": [
       "0.6422319017908736"
      ]
     },
     "execution_count": 41,
     "metadata": {},
     "output_type": "execute_result"
    }
   ],
   "source": [
    "algorithm_RFGS.score(x_test, y_test)"
   ]
  },
  {
   "cell_type": "markdown",
   "id": "af43c77f",
   "metadata": {},
   "source": [
    "Observando tambien la busqueda de los mejores hiperparametros con GridSearch podemos ver que el resultado tiene una diferencia poco significativa aunque cabe destacar que podria deberse a diversos factores, como el numero de iteracione antes mencionado o los hiperparametros que este esta buscando.\n",
    "\n",
    "Si bien no se esta afirmando que el usar menos hiperparametros o agregar otros los cuales no se mencionan aqui puede tener un efecto favorecedor es importante destacar que hacer cambios en la busqueda de hiperparametros podria arrojar resultados distintos a los aqui presentados."
   ]
  },
  {
   "cell_type": "code",
   "execution_count": 13,
   "id": "26ae7735",
   "metadata": {},
   "outputs": [
    {
     "data": {
      "text/plain": [
       "RandomForestRegressor(n_estimators=12)"
      ]
     },
     "execution_count": 13,
     "metadata": {},
     "output_type": "execute_result"
    }
   ],
   "source": [
    "#═══════════════ Random Forest Ensemble ═══════════════\n",
    "algorithm_RF = RandomForestRegressor(n_estimators=12)\n",
    "algorithm_RF.fit(x_train, y_train.ravel())"
   ]
  },
  {
   "cell_type": "code",
   "execution_count": 14,
   "id": "8e581a4c",
   "metadata": {},
   "outputs": [
    {
     "data": {
      "text/plain": [
       "0.8219733308619448"
      ]
     },
     "execution_count": 14,
     "metadata": {},
     "output_type": "execute_result"
    }
   ],
   "source": [
    "algorithm_RF.score(x_test, y_test)"
   ]
  },
  {
   "cell_type": "markdown",
   "id": "9a2e0e2b",
   "metadata": {},
   "source": [
    "Despues de ver las diferencias entre usar dos diferentes metodos para buscar hiperparametros hay otra forma mas simple que aunque aveces puede resultar poco efectiva y, o poco eficiente en este caso nos arroja un resultado cercano al deseado.\n",
    "\n",
    "En efecto me refiero a dejar que la propia libreria agregue los valores automaticamente y solo colocar un valor simple como arriba hicimos al solo agregar **\"n_estimators\"** y dejar que la libreria usara sus valores por defecto."
   ]
  },
  {
   "cell_type": "markdown",
   "id": "37f0836b",
   "metadata": {},
   "source": [
    "### Nuevos modelos y mejoras \n",
    "\n",
    "Para este modelo se decidio como parte de lsa mejoras el uso de un ensamble para poder tomar lo mejor de mas de un modelo y poder unirlo esperando un mejor resultado a los obtenidos con un solo modelo simple.\n",
    "\n",
    "La ventaja que obtenemos al combinar modelos diferentes es que como cada modelo funciona de forma diferente, sus errores tienden a compensarse. Esto resulta en un mejor error de generalización.\n",
    "\n",
    "A continuacion se prueba un modelo de ensamble tipo ***Boosting***, el **\"GradientBoostingRegressor\"** concretamente, recordando el funcionamiento del Boosting podemos decir que en el Boosting, cada modelo intenta arreglar los errores de los modelos anteriores. "
   ]
  },
  {
   "cell_type": "code",
   "execution_count": 15,
   "id": "bf031794",
   "metadata": {},
   "outputs": [
    {
     "data": {
      "text/plain": [
       "GradientBoostingRegressor(learning_rate=1, n_estimators=60)"
      ]
     },
     "execution_count": 15,
     "metadata": {},
     "output_type": "execute_result"
    }
   ],
   "source": [
    "#═══════════════ Boosting ═══════════════\n",
    "ensemble_GBR = GradientBoostingRegressor( n_estimators = 60, learning_rate = 1)\n",
    "ensemble_GBR.fit(x_test, y_test.ravel())"
   ]
  },
  {
   "cell_type": "code",
   "execution_count": 16,
   "id": "f8e6235d",
   "metadata": {},
   "outputs": [
    {
     "data": {
      "text/plain": [
       "0.6859308133570697"
      ]
     },
     "execution_count": 16,
     "metadata": {},
     "output_type": "execute_result"
    }
   ],
   "source": [
    "ensemble_GBR.score(x_train, y_train)"
   ]
  },
  {
   "cell_type": "markdown",
   "id": "1727355d",
   "metadata": {},
   "source": [
    "Como se menciono anteriormente, la fortaleza del boosting radica en que con cada iteracion y resultado, el modelo intentara aprender la relacion entre los atributos de entrada y el resultado de tal manera que el siguiente reduzca aun mas este error y el modelo pueda obtener mejores resultados en una situacion real despues de los entrenamientos.\n",
    "\n",
    "Algo a destacar en el modelo de Boosting es que al aumentar el numero de estimadores tambien mejora nuestros resultados por lo cual se decidio usar esa cantidad de estimadores y no menos."
   ]
  },
  {
   "cell_type": "code",
   "execution_count": 17,
   "id": "15f0c716",
   "metadata": {},
   "outputs": [
    {
     "data": {
      "text/plain": [
       "0.8015527681918755"
      ]
     },
     "execution_count": 17,
     "metadata": {},
     "output_type": "execute_result"
    }
   ],
   "source": [
    "ensemble_GBR.score(x_test, y_test)"
   ]
  },
  {
   "cell_type": "markdown",
   "id": "3b8aed0f",
   "metadata": {},
   "source": [
    "Otro modelo de ensamble que se decidio usar fue un **\"Voting Regressor\"** el cual consiste en entrenar varios modelos de machine learning con los mismos datos y cuando tengamos datos nuevos, obtendremos una predicción de cada modelo. \n",
    "Cada modelo tendrá asociado un voto. De esta forma, propondremos como predicción final lo que voten la mayoría de los modelos.\n",
    "\n",
    "Cuando usamos modelos diferentes, los errores se compensan y la predicción combinada generaliza mejor, en nuestro caso decidimos usar **KNN Regressor** y **Random Forest** como modelos a ensamblar, ya que lo que se pretendia era mejorar un modelo anterior se decidio usar KNN, el cual no genero los mejores resultados en un modelo pasasdo y por lo cual se ensamblo con Random Fores el cual no dio en este modelo un muy buen accuracy."
   ]
  },
  {
   "cell_type": "code",
   "execution_count": 18,
   "id": "05f95daa",
   "metadata": {},
   "outputs": [],
   "source": [
    "#═══════════════ Voting Regressor - Multiple Model Essemble ═══════════════\n",
    "regressor_A = KNeighborsRegressor(n_neighbors=8)\n",
    "regressor_B = RandomForestRegressor(n_estimators = 12)"
   ]
  },
  {
   "cell_type": "code",
   "execution_count": 19,
   "id": "83a5da50",
   "metadata": {},
   "outputs": [],
   "source": [
    "voting_regressor = VotingRegressor(estimators = [('regressor_A',regressor_A),('regressor_B',regressor_B)])"
   ]
  },
  {
   "cell_type": "code",
   "execution_count": 20,
   "id": "7c95fdcf",
   "metadata": {},
   "outputs": [
    {
     "data": {
      "text/plain": [
       "VotingRegressor(estimators=[('regressor_A', KNeighborsRegressor(n_neighbors=8)),\n",
       "                            ('regressor_B',\n",
       "                             RandomForestRegressor(n_estimators=12))])"
      ]
     },
     "execution_count": 20,
     "metadata": {},
     "output_type": "execute_result"
    }
   ],
   "source": [
    "voting_regressor.fit(x_train, y_train.ravel())"
   ]
  },
  {
   "cell_type": "code",
   "execution_count": 18,
   "id": "05dbf4ec",
   "metadata": {},
   "outputs": [
    {
     "data": {
      "text/plain": [
       "0.8146252518755907"
      ]
     },
     "execution_count": 18,
     "metadata": {},
     "output_type": "execute_result"
    }
   ],
   "source": [
    "voting_regressor.score(x_test, y_test)"
   ]
  },
  {
   "cell_type": "markdown",
   "id": "327367da",
   "metadata": {},
   "source": [
    "Como se observa ambos ensambles no dan resultados muy buenos, y podriamos decir que praticamente no hay diferencia en los resultados ya que ambos presentan un resultado muy similara y que esta dentro de lo que buscamos, valores cercanos al 100%.\n",
    "\n",
    "Asi que aunque ambos abordan disitinto la forma de evaluar los modelos ambos lo hacen de tal forma de maximixar la mejora de los resultados."
   ]
  },
  {
   "cell_type": "markdown",
   "id": "9f5771cd",
   "metadata": {},
   "source": [
    "### Validacion de Modelos\n",
    "\n",
    "Procederemos a evaluar los resultados para asegurar que estos sean independientes de la particion de datos de entrenamineto y prueba, por lo cual usaremos ***\"Cross-Valitadion\"*** para hacer esto y analizaremos los resultados.\n",
    "\n"
   ]
  },
  {
   "cell_type": "code",
   "execution_count": 24,
   "id": "190fc9d2",
   "metadata": {},
   "outputs": [],
   "source": [
    "from sklearn.model_selection import cross_val_score"
   ]
  },
  {
   "cell_type": "code",
   "execution_count": 31,
   "id": "55a824c3",
   "metadata": {},
   "outputs": [],
   "source": [
    "boosting_scores=cross_val_score(ensemble_GBR,scaler_X_data,Y.ravel(), cv=10)\n",
    "voting_scores=cross_val_score(voting_regressor, scaler_X_data,Y.ravel(), cv=10)"
   ]
  },
  {
   "cell_type": "code",
   "execution_count": 37,
   "id": "f9a1ae65",
   "metadata": {},
   "outputs": [
    {
     "name": "stdout",
     "output_type": "stream",
     "text": [
      "[0.71900437 0.7249116  0.72359247 0.71002883 0.71350788 0.69609571\n",
      " 0.71090261 0.63385632 0.68583906 0.79797767] [0.77970627 0.80585971 0.81724775 0.78525587 0.77182455 0.79842973\n",
      " 0.78121301 0.69563825 0.73554567 0.88021819]\n",
      "Boosting Regressor: 0.71 (+/- 0.08)\n",
      "Voting Regressor: 0.79 (+/- 0.09)\n"
     ]
    }
   ],
   "source": [
    "print(boosting_scores, voting_scores)\n",
    "print(\"Boosting Regressor: %0.2f (+/- %0.2f)\" % (boosting_scores.mean(), boosting_scores.std() * 2))\n",
    "print(\"Voting Regressor: %0.2f (+/- %0.2f)\" % (voting_scores.mean(), voting_scores.std() * 2))"
   ]
  },
  {
   "cell_type": "markdown",
   "id": "a48dcf38",
   "metadata": {},
   "source": [
    "Despues de evaluar los modelos de una manera muy sencilla con Cross-Validation, nos arroja resultados mas reales del estado de nuestros dos modelos a elegir con lo cual podemos elegir de una manera mas segura el que podemos usar posteriormente. \n",
    "\n",
    "**\"cross_val_score\"** por defecto nos da en \"cv\" un default de 5 (Que son las separaciones que hara) y que evaluara posteriormente, pero nosotros decidimos usar 10 para mejorar un poco los resultados de ambos modelos.\n",
    "\n",
    "Aunque anteriormente obtuvimos 80% en nuestro modelo de Boosting y 81% en el Voting Regressor podemos ver que los valores mas acercados a la realidad son 71% para Boosting y 79% para VotingRegressor respectivamente que si bien no son los mismos valores anteriores siguen siendo cercanos, en especial VotingRegressor que es el que mas nos interesa."
   ]
  },
  {
   "cell_type": "code",
   "execution_count": 46,
   "id": "925d1cad",
   "metadata": {},
   "outputs": [],
   "source": [
    "from sklearn.model_selection import cross_validate\n",
    "boosting_train_scores_mean = []\n",
    "boosting_train_scores_std = []\n",
    "boosting_test_scores_mean = []\n",
    "boosting_test_scores_std = []\n",
    "\n",
    "profundidades = np.arange(1,50,1)\n",
    "\n",
    "for profundidad in profundidades:\n",
    "    clf = GradientBoostingRegressor(max_depth=profundidad)\n",
    "    boost_scores = cross_validate(clf, scaler_X_data, Y, cv=10, return_train_score=True, n_jobs = -1)\n",
    "    \n",
    "    boosting_train_scores_mean.append(boost_scores['train_score'].mean())\n",
    "    boosting_train_scores_std.append(boost_scores['train_score'].std())\n",
    "    \n",
    "    boosting_test_scores_mean.append(boost_scores['test_score'].mean())\n",
    "    boosting_test_scores_std.append(boost_scores['test_score'].std())\n",
    "\n",
    "boosting_train_scores_mean = np.array(boosting_train_scores_mean)\n",
    "boosting_train_scores_std = np.array(boosting_train_scores_std)\n",
    "boosting_test_scores_mean = np.array(boosting_test_scores_mean)\n",
    "boosting_test_scores_std = np.array(boosting_test_scores_std)"
   ]
  },
  {
   "cell_type": "code",
   "execution_count": 47,
   "id": "14816c64",
   "metadata": {},
   "outputs": [
    {
     "data": {
      "image/png": "[encoded data removed]",
      "text/plain": [
       "<Figure size 864x576 with 1 Axes>"
      ]
     },
     "metadata": {
      "needs_background": "light"
     },
     "output_type": "display_data"
    }
   ],
   "source": [
    "plt.figure(figsize=(12,8))\n",
    "plt.fill_between(profundidades, boosting_train_scores_mean - boosting_train_scores_std,\n",
    "                 boosting_train_scores_mean + boosting_train_scores_std, alpha=0.1,\n",
    "                 color=\"r\")\n",
    "plt.fill_between(profundidades, boosting_test_scores_mean - boosting_test_scores_std,\n",
    "                 boosting_test_scores_mean + boosting_test_scores_std, alpha=0.1, color=\"g\")\n",
    "plt.plot(profundidades, boosting_train_scores_mean, 'o-', color=\"r\",\n",
    "         label=\"Training score\")\n",
    "plt.plot(profundidades, boosting_test_scores_mean, 'o-', color=\"g\",\n",
    "         label=\"Test score\")\n",
    "plt.legend()\n",
    "plt.ylabel('Accuracy')\n",
    "plt.xlabel('BoostingRegressor deep')\n",
    "plt.show()"
   ]
  },
  {
   "cell_type": "markdown",
   "id": "74399cd9",
   "metadata": {},
   "source": [
    "La grafica mostrada arriba nos muestra la curva de validacion , en la cual podemos ver lo cerca que estan nuestros modelos de hacer una prediccion cercana a la ideal.\n",
    "\n",
    "Es decir el aproximadamente 80% de puntaje obtenido se veria de esa forma donde observando la diferencia entre el puntaje en train y score es poca comparando la forma que deberiamos obtener, un punto a destacar es que esta curva corresponde al modelo de **BoostingRegressor** pero si pudieramos graficar de la misma manera VootingRegressor veriamos una curva parecida.(La grafica se hizo de tal forma que modificabamos la profundidad para asi graficar el comportamiento del modelo con los datos datos.)"
   ]
  },
  {
   "cell_type": "markdown",
   "id": "84298892",
   "metadata": {},
   "source": [
    "### Comparacion Regresor V1.0\n",
    "\n",
    "#### ¿Que diferencias hay respecto a la primera version de este modelo?\n",
    "Recordadno la version 1.0 de este preditor la cual se hizo con este mismo dataset pero con otros procesos de datos distintos, nos arrojaba diferentes resultados debido al modelo implementado y a el ***tratamiento de los datos***, tomando mas peso esta segunda razon.\n",
    "\n",
    "A continuacion se implementara el mismo modelo (v1.0) pero con este nuevo conjunto de datos y compararemos si el modelo a mejora con los nuevos datos filtrados, y que puntaje alcanza.\n",
    "\n",
    "De igual manera implementaremos otro de los modelos para comparar la diferencia entre ellos."
   ]
  },
  {
   "cell_type": "code",
   "execution_count": 21,
   "id": "f6cf9dd4",
   "metadata": {},
   "outputs": [
    {
     "data": {
      "text/plain": [
       "KNeighborsRegressor()"
      ]
     },
     "execution_count": 21,
     "metadata": {},
     "output_type": "execute_result"
    }
   ],
   "source": [
    "#═══════════════ Models v1.0 ═══════════════\n",
    "from sklearn.tree import DecisionTreeRegressor\n",
    "tree_regressor = DecisionTreeRegressor(max_depth=3, random_state=42)\n",
    "tree_regressor.fit(x_train, y_train)\n",
    "knn_regressor = KNeighborsRegressor(n_neighbors=5)\n",
    "knn_regressor.fit(x_train, y_train)"
   ]
  },
  {
   "cell_type": "code",
   "execution_count": 22,
   "id": "884e2acf",
   "metadata": {},
   "outputs": [
    {
     "data": {
      "text/plain": [
       "0.7684339481701714"
      ]
     },
     "execution_count": 22,
     "metadata": {},
     "output_type": "execute_result"
    }
   ],
   "source": [
    "knn_regressor.score(x_test, y_test)"
   ]
  },
  {
   "cell_type": "code",
   "execution_count": 23,
   "id": "7d748d76",
   "metadata": {},
   "outputs": [
    {
     "data": {
      "text/plain": [
       "0.5944306236462126"
      ]
     },
     "execution_count": 23,
     "metadata": {},
     "output_type": "execute_result"
    }
   ],
   "source": [
    "tree_regressor.score(x_test, y_test)"
   ]
  },
  {
   "cell_type": "markdown",
   "id": "e260cb8f",
   "metadata": {},
   "source": [
    "Comenzando con la comparacion lo primero que podemos ver es el score que en la v1.0 no era nada perfecto ya que en KNN apenas alcanzamos un 56% y en el TreeRegressor solo obteniamos un 55%, siendo estos los dos mas altos, ahora usando este nuevo conjunto de datos ya filtrado y transformado se puede observar una buena mejoria en en uno de los modelos y en otro tambien hay algo de mejora.\n",
    "\n",
    "- KNN v1.0 56.5% ------------------------- KNN v2.0 76.8%\n",
    "- TreeRegrssor v1.0 55.7% ---------------- TreeRegressor v2.0 59.4%\n"
   ]
  },
  {
   "cell_type": "markdown",
   "id": "375e6075",
   "metadata": {},
   "source": [
    "#### Cross-Validation en modelo v1.0\n",
    "\n",
    "Anteriormente hicimos una evaluacion diferente de estos modelos donde trazabamos curvas y comparabamos con nuestros datos de train y test que tan acertado era el modelo pero esta vez usaremos los datos completos de nuestro modelo para probar nuestros modelos y observar un puntaje mas cercano a la realidad."
   ]
  },
  {
   "cell_type": "code",
   "execution_count": 27,
   "id": "e30d671c",
   "metadata": {},
   "outputs": [
    {
     "name": "stdout",
     "output_type": "stream",
     "text": [
      "\n"
     ]
    }
   ],
   "source": [
    "knn_scores = cross_val_score(knn_regressor,scaler_X_data,Y.ravel(), cv=10)\n",
    "print()"
   ]
  },
  {
   "cell_type": "code",
   "execution_count": 28,
   "id": "0dbdc9d1",
   "metadata": {},
   "outputs": [],
   "source": [
    "tree_scores = cross_val_score(tree_regressor,scaler_X_data,Y.ravel(), cv=10)"
   ]
  },
  {
   "cell_type": "code",
   "execution_count": 30,
   "id": "03d7dded",
   "metadata": {},
   "outputs": [
    {
     "name": "stdout",
     "output_type": "stream",
     "text": [
      "KNN Regressor: 0.72 (+/- 0.13)\n",
      "Tree Regressor: 0.57 (+/- 0.06)\n"
     ]
    }
   ],
   "source": [
    "print(\"KNN Regressor: %0.2f (+/- %0.2f)\" % (knn_scores.mean(), knn_scores.std() * 2))\n",
    "print(\"Tree Regressor: %0.2f (+/- %0.2f)\" % (tree_scores.mean(), tree_scores.std() * 2))"
   ]
  },
  {
   "cell_type": "markdown",
   "id": "8be014ed",
   "metadata": {},
   "source": [
    "Como observamos, nuestro score disminuyo un poco per aun el modelo anterior elegido (KNN) permace con un buen puntaje que es aun mayor al de la version 1.0, sin embargo el TreeRegressor volvio a un valor muy similar al que obtuvimos en su version 1.0"
   ]
  },
  {
   "cell_type": "markdown",
   "id": "b60e7a4e",
   "metadata": {},
   "source": [
    "### Comparando con modelos usados en v2.0\n",
    "Habiendo evaluado los antiguos moelos y comparandolos con los nuevos podemos notar varias diferencias en los resultados:\n",
    "\n",
    "- 1)Tratamiento de datos:\n",
    "    En esta version 2.0 se usaron nuevas funciones para optimizar lo maximo posible los datos que teniamos de tal forma que los     datos que teniamos se autaban de mejor forma a los modelos que implementariamos, por ejemplo el escalar los datos para que     estos fueran mas faciles de utilizar por serparada en el moedlo KNN y RandomForestRegressor y asi obtener mejores        resultados individualemnte y al hacer un ensamble el resultado fuera mucho mejor.\n",
    "    \n",
    "    \n",
    "- 2)Modelos implementados:\n",
    "   No existen malos modelos, solo hay modelos mejores para cada problema, es decir, aunque en esta ocasion los modelos  implementados en la v1.0 no fueron tan buenos como los usados ahora no significa que sean malos ino que en esta aplicacion fue  otra forma la que nos acerca mas al resultado deseado.\n",
    "   \n",
    "    No seria una comparacion justa ya que se usaron otros metodos para tratar los datos por lo cual los resultados fueron   distintos, ademas de que en esta ocasion un ensamble podriamos decir que es como si trabajaramos con alguien de \"dos cabezas\"   debido a que mientras nuestro antiguo modelo solo podia obtener un tipo de resultados, ahora podemos obtener mas de un    resultado y comparalos paa despues se hagan correciones y se pondere la solucion.\n",
    "    \n",
    "    \n",
    "- 3)Evaluaicion de modelos:\n",
    "    Anteriormente evaluabamos nuestros modelos con los mismos datos de entrenamineto y test lo cual si bien nos da una buena estimacion, esta podria mejorar arrojando datos ma reales como en esta version donde se implemento el Cross-Validation y de esa maner ver que tan buenos eran nuestros modelos con algo mas parecido a la realidad.\n",
    "    \n",
    "### Eleccion de Modelo\n",
    "Una vez comparados tanto nuestros modelos 2.0 y los antiguos modelos 1.0 y todos sus cambios, ajustes y aditamentos podemos tomar una decision respecto al modelo elegido en esta version 2.0.\n",
    "\n",
    "Mirando los train, test y scores respectivos, podemos decir que podria haber un empate entre ***Boosting Regressor*** y ***Voting Regressor*** donde apenas por poco **Voting Regressor** nos da el mejor resultado pero no es nada que haciendo mas ajustes en algunos hiperparametros, o estimadores no puedan arreglar."
   ]
  },
  {
   "cell_type": "markdown",
   "id": "f2b2e66e",
   "metadata": {},
   "source": [
    "## Interpretacion de Modelos\n",
    "- ¿Qué variables fueron relevantes para el modelo para hacer una predicción? ¿Cuáles no?\n",
    "    Las variables que mas ayudaron a nuestro predcitor fueron las hallas en nuestra matriz de correlacion \n",
    "    - rooms\n",
    "    - bedrooms\n",
    "    - bathrooms \n",
    "    - surface_total\n",
    "    - surface_covered\n",
    "    \n",
    "    Estas variables ademas de nuestros \"datos resultado\" (el precio) fueron el pilar para despues entrenar los modelos y evaluar su desempeño.\n",
    "    \n",
    "- ¿Cómo es la distribución de errores (regresión) o qué clases se confunden entre sí (clasificación)? ¿Dónde falla? ¿A qué se debe?\n",
    "    Nuestros errores estan aun en un rango aceptable, es decir ,no hay rastro de **overfiting** o **underfitting** demasiado notable, como pudimos apreciar en la grafica de boosting regressor, tenemos una curva muy similar a la esperada. lo cual es señal de que tenemos un buen error y el modelo puede entender la relacion de los datos de entrada y salida.\n",
    "    \n",
    "    Algo mas a agregar es que al hacer la validacion cruzada estamos exponiendo el modelo a un entorno parecido al de la realidad dandole datos siferentes a train y test, viendo asi un comportamineto mas realista."
   ]
  },
  {
   "cell_type": "markdown",
   "id": "4bdec2d0",
   "metadata": {},
   "source": [
    "## Conclusion\n",
    "¿Se cumplieron los objetivos?\n",
    "En efecto cumplimos los objetios propuestos en este proyecto los cuales eran :\n",
    "\n",
    "    - Optimizacion del modelo o cambio de este (Mejores resultados al predecir)\n",
    "    - Mejoras en nuestros datos (Modificacion del dataset para tener resultados mas precisos)\n",
    "    - Exploracion de nuevos errores al mejorar el modelo\n",
    "    \n",
    "Como se muestra en el proyecto hicimos una mejora a nuestro modelo anterior de tal forma que los transformamos en uno nuevo al hacer un ensamble con VotingRegressor agregando RandomForestRegressor y mejorando los resultados.\n",
    "\n",
    "Vimos una mejora en los datos usados en el dataset, ya que los procedimientos aplicados fueron diferentes pero mejores para nuestros modelos ya que esto les aregaba un extra, dandoles mas relacion entre la entrada y salida mejorando asi los resultados.\n",
    "\n",
    "En esta segunda version pudimos implementar una version mejorada de nuestro modelo v1.0 con lo que encontramos algunos problemas al buscar los mejores hiperparametros a optimizar y tambien al ver los resultados ya que se buscaba tener una mejora, lo cual logramos pero tomo tiempo y diversas pruebas con el codigo."
   ]
  },
  {
   "cell_type": "code",
   "execution_count": null,
   "id": "09e06101",
   "metadata": {},
   "outputs": [],
   "source": []
  }
 ],
 "metadata": {
  "kernelspec": {
   "display_name": "Python 3",
   "language": "python",
   "name": "python3"
  },
  "language_info": {
   "codemirror_mode": {
    "name": "ipython",
    "version": 3
   },
   "file_extension": ".py",
   "mimetype": "text/x-python",
   "name": "python",
   "nbconvert_exporter": "python",
   "pygments_lexer": "ipython3",
   "version": "3.9.5"
  }
 },
 "nbformat": 4,
 "nbformat_minor": 5
}
